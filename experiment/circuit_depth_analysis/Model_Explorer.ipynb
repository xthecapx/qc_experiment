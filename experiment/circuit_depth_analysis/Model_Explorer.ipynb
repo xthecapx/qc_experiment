{
 "cells": [
  {
   "cell_type": "code",
   "execution_count": 6,
   "id": "6b6609a2-0f45-443d-8532-89f74b32f7e4",
   "metadata": {},
   "outputs": [
    {
     "name": "stdout",
     "output_type": "stream",
     "text": [
      "Model loaded successfully from target_depth_model.pkl\n"
     ]
    },
    {
     "data": {
      "application/vnd.jupyter.widget-view+json": {
       "model_id": "1ae2ac6e8d5c4112a1cc5db1a6c5a934",
       "version_major": 2,
       "version_minor": 0
      },
      "text/plain": [
       "VBox(children=(HTML(value='<h3>Circuit Configuration Comparison</h3>'), HBox(children=(VBox(children=(HTML(val…"
      ]
     },
     "metadata": {},
     "output_type": "display_data"
    }
   ],
   "source": [
    "from model_explorer import ModelExplorer\n",
    "\n",
    "# Create an instance of the ModelExplorer\n",
    "# The model is in the circuit_depth_analysis directory\n",
    "explorer = ModelExplorer(\"target_depth_model.pkl\")\n",
    "\n",
    "# Option 1: Use the interactive explorer with sliders\n",
    "# explorer.interactive_explorer()\n",
    "\n",
    "# Option 2: Compare two circuit configurations side by side\n",
    "explorer.interactive_comparison()\n",
    "\n",
    "# Option 3: Find optimal parameters for a given payload size\n",
    "# explorer.interactive_optimal_finder()\n",
    "\n",
    "# Option 4: Use standard methods without interactive widgets\n",
    "# success_rate = explorer.predict_success_rate(\n",
    "#     circuit_depth=20,\n",
    "#     circuit_size=30,\n",
    "#     circuit_width=5,\n",
    "#     payload_size=3\n",
    "# )\n",
    "# print(f\"Predicted success rate: {success_rate:.4f} ({success_rate*100:.2f}%)\")"
   ]
  }
 ],
 "metadata": {
  "kernelspec": {
   "display_name": "Python 3 (ipykernel)",
   "language": "python",
   "name": "python3"
  },
  "language_info": {
   "codemirror_mode": {
    "name": "ipython",
    "version": 3
   },
   "file_extension": ".py",
   "mimetype": "text/x-python",
   "name": "python",
   "nbconvert_exporter": "python",
   "pygments_lexer": "ipython3",
   "version": "3.11.6"
  }
 },
 "nbformat": 4,
 "nbformat_minor": 5
}
